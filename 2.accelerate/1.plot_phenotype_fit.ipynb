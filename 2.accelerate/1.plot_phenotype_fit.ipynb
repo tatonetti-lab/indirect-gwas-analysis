{
 "cells": [
  {
   "cell_type": "code",
   "execution_count": 1,
   "id": "401b7f94-d34a-4cce-a1d2-d8649042bc60",
   "metadata": {},
   "outputs": [
    {
     "name": "stderr",
     "output_type": "stream",
     "text": [
      "── \u001b[1mAttaching core tidyverse packages\u001b[22m ──────────────────────────────────────────────────────────────────────────────────────────────────────────────────── tidyverse 2.0.0 ──\n",
      "\u001b[32m✔\u001b[39m \u001b[34mdplyr    \u001b[39m 1.1.4     \u001b[32m✔\u001b[39m \u001b[34mreadr    \u001b[39m 2.1.5\n",
      "\u001b[32m✔\u001b[39m \u001b[34mforcats  \u001b[39m 1.0.0     \u001b[32m✔\u001b[39m \u001b[34mstringr  \u001b[39m 1.5.1\n",
      "\u001b[32m✔\u001b[39m \u001b[34mggplot2  \u001b[39m 3.5.0     \u001b[32m✔\u001b[39m \u001b[34mtibble   \u001b[39m 3.2.1\n",
      "\u001b[32m✔\u001b[39m \u001b[34mlubridate\u001b[39m 1.9.3     \u001b[32m✔\u001b[39m \u001b[34mtidyr    \u001b[39m 1.3.1\n",
      "\u001b[32m✔\u001b[39m \u001b[34mpurrr    \u001b[39m 1.0.2     \n",
      "── \u001b[1mConflicts\u001b[22m ────────────────────────────────────────────────────────────────────────────────────────────────────────────────────────────────────── tidyverse_conflicts() ──\n",
      "\u001b[31m✖\u001b[39m \u001b[34mdplyr\u001b[39m::\u001b[32mfilter()\u001b[39m masks \u001b[34mstats\u001b[39m::filter()\n",
      "\u001b[31m✖\u001b[39m \u001b[34mdplyr\u001b[39m::\u001b[32mlag()\u001b[39m    masks \u001b[34mstats\u001b[39m::lag()\n",
      "\u001b[36mℹ\u001b[39m Use the conflicted package (\u001b[3m\u001b[34m<http://conflicted.r-lib.org/>\u001b[39m\u001b[23m) to force all conflicts to become errors\n",
      "\n",
      "Attaching package: ‘cowplot’\n",
      "\n",
      "\n",
      "The following object is masked from ‘package:lubridate’:\n",
      "\n",
      "    stamp\n",
      "\n",
      "\n",
      "\n",
      "Attaching package: ‘arrow’\n",
      "\n",
      "\n",
      "The following object is masked from ‘package:lubridate’:\n",
      "\n",
      "    duration\n",
      "\n",
      "\n",
      "The following object is masked from ‘package:utils’:\n",
      "\n",
      "    timestamp\n",
      "\n",
      "\n",
      "\n",
      "Attaching package: ‘yardstick’\n",
      "\n",
      "\n",
      "The following object is masked from ‘package:readr’:\n",
      "\n",
      "    spec\n",
      "\n",
      "\n"
     ]
    }
   ],
   "source": [
    "library(tidyverse)\n",
    "library(cowplot)\n",
    "library(arrow)\n",
    "library(yardstick)\n",
    "library(ggridges)"
   ]
  },
  {
   "cell_type": "markdown",
   "id": "0cc768c5-1523-4970-89db-21af7043bc9e",
   "metadata": {},
   "source": [
    "# How well do PCs fit the phenotypes?"
   ]
  },
  {
   "cell_type": "code",
   "execution_count": 2,
   "id": "0d38a42d-a391-4996-9b95-c2567eb80df5",
   "metadata": {},
   "outputs": [],
   "source": [
    "pca_df <- read_tsv(\"data/pheno/pca.tsv\", show_col_types = F)\n",
    "pheno_df <- read_tsv(\"data/pheno/binary_pheno.tsv\", show_col_types = F)"
   ]
  },
  {
   "cell_type": "code",
   "execution_count": null,
   "id": "fd4d22e8-b604-4b61-9c64-fee5dd4d4f60",
   "metadata": {},
   "outputs": [],
   "source": [
    "coef_paths <- fs::dir_ls(path = \"data/coef/\", glob = \"*pca_*tsv\")\n",
    "\n",
    "coef_paths"
   ]
  },
  {
   "cell_type": "code",
   "execution_count": 36,
   "id": "b2559751-a32f-4124-b2c4-dc9f427d8f31",
   "metadata": {},
   "outputs": [],
   "source": [
    "make_pheno_hat <- function(path) {\n",
    "    read_tsv(path, show_col_types = F) %>%\n",
    "    select(-feature) %>%\n",
    "    as.matrix %>%\n",
    "    {\n",
    "        as.matrix(select(pca_df, starts_with(\"PC\"))) %*% .\n",
    "    } %>%\n",
    "    as_tibble %>%\n",
    "    bind_cols(select(pca_df, IID), .)\n",
    "}\n",
    "\n",
    "compute_fit_quality <- function(pheno_hat_df) {\n",
    "    map2(select(pheno_df, -FID, -IID), select(pheno_hat_df, -IID), rsq_vec) %>%\n",
    "    as_tibble %>%\n",
    "    pivot_longer(everything(), names_to = \"phenotype\", values_to = \"rsq\")\n",
    "}"
   ]
  },
  {
   "cell_type": "code",
   "execution_count": null,
   "id": "5dd06979-c426-45f6-9e6a-21717731bb61",
   "metadata": {},
   "outputs": [],
   "source": [
    "fit_quality_df <- coef_paths %>%\n",
    "    map2(\n",
    "        names(.),\n",
    "        ~.x %>% \n",
    "        make_pheno_hat %>%\n",
    "        compute_fit_quality %>%\n",
    "        mutate(\n",
    "            fraction = str_extract(.y, \"(?<=pca_)[0-9\\\\.]+(?=\\\\.tsv)\") %>% \n",
    "                as.double\n",
    "        )\n",
    "    ) %>%\n",
    "    bind_rows\n",
    "\n",
    "fit_quality_df %>% head(2)"
   ]
  },
  {
   "cell_type": "code",
   "execution_count": 48,
   "id": "3ea6428e-45aa-460d-b9db-b52a2f72d08c",
   "metadata": {},
   "outputs": [],
   "source": [
    "fit_quality_df %>% write_parquet(\"plot_data/pca_fit_quality.parquet\")"
   ]
  },
  {
   "cell_type": "code",
   "execution_count": 194,
   "id": "cb8e89c2-5c0b-478e-9834-21f2d237cf90",
   "metadata": {},
   "outputs": [
    {
     "data": {
      "image/png": "[encoded data removed]",
      "text/plain": [
       "plot without title"
      ]
     },
     "metadata": {
      "image/png": {
       "height": 500,
       "width": 625
      }
     },
     "output_type": "display_data"
    }
   ],
   "source": [
    "options(repr.plot.height = 4, repr.plot.width = 5, repr.plot.res = 250)\n",
    "\n",
    "fit_quality_plot <- fit_quality_df %>%\n",
    "    mutate(\n",
    "        facet_label = as.integer(100 * fraction) %>% \n",
    "            as.character %>%\n",
    "            str_c(., \"% of PCs\") %>%\n",
    "            fct_reorder(fraction)\n",
    "    ) %>%\n",
    "    ggplot(aes(x = rsq, y = facet_label)) +\n",
    "    geom_density_ridges(stat = \"binline\", bins = 30, scale = 1.05, linewidth = 0.5) +\n",
    "    scale_y_discrete(expand = c(0, 0)) +\n",
    "    coord_cartesian(clip = \"off\", xlim = c(0, 1)) +\n",
    "    theme_ridges() +\n",
    "    theme(\n",
    "        axis.text.y = element_text(hjust = 0.5, vjust = -3, margin = margin(r = -182), color = \"grey30\", size = 10),\n",
    "        plot.margin = margin(1, 1, 1, 182),\n",
    "        axis.title.y = element_blank(),\n",
    "        axis.ticks.y = element_blank(),\n",
    "        \n",
    "        panel.grid.major.x = element_blank(),\n",
    "        panel.grid.major.y = element_line(linewidth = 0.5, color = \"black\"),\n",
    "        axis.title.x = element_text(hjust = 0.5),\n",
    "        axis.text.x = element_text(size = 10),\n",
    "        axis.ticks.x = element_line(color = \"black\"),\n",
    "    ) +\n",
    "    xlab(expression(\"Phenotype reconstruction quality\"~(R^2)))\n",
    "\n",
    "fit_quality_plot"
   ]
  },
  {
   "cell_type": "code",
   "execution_count": 195,
   "id": "d2c2d962-c319-41dc-a796-8fc71a79c3e6",
   "metadata": {},
   "outputs": [],
   "source": [
    "save_plot(\"img/pca_fit_quality.png\", fit_quality_plot, base_height = 4, base_width = 5, dpi = 400)"
   ]
  }
 ],
 "metadata": {
  "kernelspec": {
   "display_name": "R",
   "language": "R",
   "name": "ir"
  },
  "language_info": {
   "codemirror_mode": "r",
   "file_extension": ".r",
   "mimetype": "text/x-r-source",
   "name": "R",
   "pygments_lexer": "r",
   "version": "4.2.3"
  }
 },
 "nbformat": 4,
 "nbformat_minor": 5
}
