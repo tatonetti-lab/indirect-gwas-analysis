{
 "cells": [
  {
   "cell_type": "code",
   "execution_count": 1,
   "id": "ebfb574c-64ee-4f20-8c75-82aaec67280c",
   "metadata": {},
   "outputs": [],
   "source": [
    "import pathlib\n",
    "\n",
    "import pandas as pd\n",
    "import polars as pl\n",
    "import tqdm"
   ]
  },
  {
   "cell_type": "markdown",
   "id": "1b0a4a5d-3f1b-4578-84c0-ab1e8b6bed05",
   "metadata": {},
   "source": [
    "# Subsample direct results"
   ]
  },
  {
   "cell_type": "code",
   "execution_count": 2,
   "id": "cd89f853-575f-4085-b4c9-5eb34c233476",
   "metadata": {},
   "outputs": [
    {
     "data": {
      "text/plain": [
       "1238"
      ]
     },
     "execution_count": 2,
     "metadata": {},
     "output_type": "execute_result"
    }
   ],
   "source": [
    "direct_paths = list(pathlib.Path(\"data/gwas\").glob(\"plink.b_*.glm.linear.zst\"))\n",
    "\n",
    "len(direct_paths)"
   ]
  },
  {
   "cell_type": "code",
   "execution_count": 3,
   "id": "db2c4889-3dc1-4db1-89a5-ed507e0f7210",
   "metadata": {},
   "outputs": [
    {
     "data": {
      "text/html": [
       "<div><style>\n",
       ".dataframe > thead > tr,\n",
       ".dataframe > tbody > tr {\n",
       "  text-align: right;\n",
       "  white-space: pre-wrap;\n",
       "}\n",
       "</style>\n",
       "<small>shape: (2, 1)</small><table border=\"1\" class=\"dataframe\"><thead><tr><th>variant_id</th></tr><tr><td>str</td></tr></thead><tbody><tr><td>&quot;7:50078299&quot;</td></tr><tr><td>&quot;7:29500502&quot;</td></tr></tbody></table></div>"
      ],
      "text/plain": [
       "shape: (2, 1)\n",
       "┌────────────┐\n",
       "│ variant_id │\n",
       "│ ---        │\n",
       "│ str        │\n",
       "╞════════════╡\n",
       "│ 7:50078299 │\n",
       "│ 7:29500502 │\n",
       "└────────────┘"
      ]
     },
     "execution_count": 3,
     "metadata": {},
     "output_type": "execute_result"
    }
   ],
   "source": [
    "sampled_variant_df = (\n",
    "    pl.read_csv(direct_paths[0], separator=\"\\t\", columns=[\"ID\"])\n",
    "    .rename({\"ID\": \"variant_id\"})\n",
    "    .sample(n=1000, seed=0)\n",
    ")\n",
    "\n",
    "sampled_variant_df.head(2)"
   ]
  },
  {
   "cell_type": "code",
   "execution_count": 4,
   "id": "c4d8bfac-4f53-4a32-85c3-561323357fab",
   "metadata": {},
   "outputs": [
    {
     "name": "stderr",
     "output_type": "stream",
     "text": [
      "100%|███████████████████████████████████████████████████████████████████████████████████████████████████████████████████████████████████| 1238/1238 [08:51<00:00,  2.33it/s]\n"
     ]
    }
   ],
   "source": [
    "full_direct_df = list()\n",
    "\n",
    "for path in tqdm.tqdm(direct_paths):\n",
    "    df = (\n",
    "        pl.read_csv(path, separator=\"\\t\", columns=[\"ID\", \"P\"])\n",
    "        .join(sampled_variant_df, left_on=\"ID\", right_on=\"variant_id\")\n",
    "        .select(\n",
    "            phenotype_id=pl.lit(path.stem.replace(\"plink.\", \"\").replace(\".glm.linear\", \"\")),\n",
    "            variant_id=\"ID\",\n",
    "            p_value=pl.col(\"P\").log(10).mul(-1),\n",
    "        )\n",
    "    )\n",
    "    full_direct_df.append(df)\n",
    "\n",
    "full_direct_df = pl.concat(full_direct_df)"
   ]
  },
  {
   "cell_type": "code",
   "execution_count": 5,
   "id": "2551b29e-ae1b-46d4-83d7-ee0ada52eaa2",
   "metadata": {},
   "outputs": [],
   "source": [
    "full_direct_df.write_parquet(\"plot_data/direct_sampled.parquet\")"
   ]
  },
  {
   "cell_type": "markdown",
   "id": "72fb7cf9-707a-4c34-af4d-f54e89759042",
   "metadata": {},
   "source": [
    "# Subsample indirect results"
   ]
  },
  {
   "cell_type": "code",
   "execution_count": 6,
   "id": "0e73b199-fc4d-4d05-9067-bc5645d603a2",
   "metadata": {},
   "outputs": [
    {
     "data": {
      "text/plain": [
       "[PosixPath('data/igwas/pca_0.25.tsv.zst'),\n",
       " PosixPath('data/igwas/pca_0.1.tsv.zst'),\n",
       " PosixPath('data/igwas/pca_0.5.tsv.zst'),\n",
       " PosixPath('data/igwas/pca_0.75.tsv.zst'),\n",
       " PosixPath('data/igwas/pca_1.0.tsv.zst'),\n",
       " PosixPath('data/igwas/pca_0.9.tsv.zst')]"
      ]
     },
     "execution_count": 6,
     "metadata": {},
     "output_type": "execute_result"
    }
   ],
   "source": [
    "igwas_paths = list(pathlib.Path(\"data/igwas\").glob(\"pca*.tsv.zst\"))\n",
    "\n",
    "igwas_paths"
   ]
  },
  {
   "cell_type": "code",
   "execution_count": 7,
   "id": "d4c2b29d-4d13-441f-8c3e-ab0da608b5f9",
   "metadata": {},
   "outputs": [
    {
     "name": "stderr",
     "output_type": "stream",
     "text": [
      "1238it [12:43,  1.62it/s]\n",
      "1238it [13:06,  1.57it/s]\n",
      "1238it [13:35,  1.52it/s]\n",
      "1238it [12:28,  1.65it/s]\n",
      "1238it [13:19,  1.55it/s]"
     ]
    }
   ],
   "source": [
    "for path in igwas_paths:\n",
    "    igwas_reader = pd.read_csv(\n",
    "        path, sep=\"\\t\", \n",
    "        usecols=[\"phenotype_id\", \"variant_id\", \"p_value\"], \n",
    "        dtype={\"phenotype_id\": str, \"variant_id\": str, \"p_value\": float}, \n",
    "        chunksize=500_000\n",
    "    )\n",
    "    \n",
    "    indirect_df = list()\n",
    "    for df in tqdm.tqdm(igwas_reader):\n",
    "        df = pl.DataFrame(df).join(sampled_variant_df, on=[\"variant_id\"])\n",
    "        indirect_df.append(df)\n",
    "    indirect_df = pl.concat(indirect_df)\n",
    "    \n",
    "    output_path = (\n",
    "        pathlib.Path(\"plot_data\").joinpath(\"indirect_sampled_\" + path.name)\n",
    "        .with_suffix(\"\").with_suffix(\".parquet\")\n",
    "    )\n",
    "    indirect_df.write_parquet(output_path)"
   ]
  }
 ],
 "metadata": {
  "kernelspec": {
   "display_name": "Python 3 (ipykernel)",
   "language": "python",
   "name": "python3"
  },
  "language_info": {
   "codemirror_mode": {
    "name": "ipython",
    "version": 3
   },
   "file_extension": ".py",
   "mimetype": "text/x-python",
   "name": "python",
   "nbconvert_exporter": "python",
   "pygments_lexer": "ipython3",
   "version": "3.11.6"
  }
 },
 "nbformat": 4,
 "nbformat_minor": 5
}
