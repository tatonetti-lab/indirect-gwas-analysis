{
 "cells": [
  {
   "cell_type": "code",
   "execution_count": 1,
   "id": "37ce3976-87e8-4ce3-a31b-1afdd23733c2",
   "metadata": {},
   "outputs": [],
   "source": [
    "import pathlib\n",
    "\n",
    "import pandas as pd\n",
    "import polars as pl\n",
    "import tqdm\n",
    "\n",
    "import seaborn as sns\n",
    "import matplotlib.pyplot as plt"
   ]
  },
  {
   "cell_type": "code",
   "execution_count": 2,
   "id": "cd89f853-575f-4085-b4c9-5eb34c233476",
   "metadata": {},
   "outputs": [
    {
     "data": {
      "text/plain": [
       "1238"
      ]
     },
     "execution_count": 2,
     "metadata": {},
     "output_type": "execute_result"
    }
   ],
   "source": [
    "direct_paths = list(pathlib.Path(\"data/gwas\").glob(\"plink.b_*.glm.linear.zst\"))\n",
    "\n",
    "len(direct_paths)"
   ]
  },
  {
   "cell_type": "code",
   "execution_count": 3,
   "id": "2234205d-8c5d-4877-94e6-2a83baf87a2f",
   "metadata": {},
   "outputs": [
    {
     "data": {
      "text/plain": [
       "[PosixPath('data/igwas/pca_0.25.tsv.zst'),\n",
       " PosixPath('data/igwas/pca_1.0.tsv.zst'),\n",
       " PosixPath('data/igwas/pca_0.75.tsv.zst'),\n",
       " PosixPath('data/igwas/pca_0.9.tsv.zst'),\n",
       " PosixPath('data/igwas/pca_0.1.tsv.zst'),\n",
       " PosixPath('data/igwas/pca_0.5.tsv.zst')]"
      ]
     },
     "execution_count": 3,
     "metadata": {},
     "output_type": "execute_result"
    }
   ],
   "source": [
    "igwas_paths = list(pathlib.Path(\"data/igwas\").glob(\"pca_*.tsv.zst\"))\n",
    "\n",
    "igwas_paths"
   ]
  },
  {
   "cell_type": "code",
   "execution_count": 4,
   "id": "db2c4889-3dc1-4db1-89a5-ed507e0f7210",
   "metadata": {},
   "outputs": [
    {
     "data": {
      "text/html": [
       "<div><style>\n",
       ".dataframe > thead > tr,\n",
       ".dataframe > tbody > tr {\n",
       "  text-align: right;\n",
       "  white-space: pre-wrap;\n",
       "}\n",
       "</style>\n",
       "<small>shape: (2, 3)</small><table border=\"1\" class=\"dataframe\"><thead><tr><th>variant_id</th><th>p_value</th><th>quantile</th></tr><tr><td>str</td><td>f64</td><td>cat</td></tr></thead><tbody><tr><td>&quot;1:1467485&quot;</td><td>0.949241</td><td>&quot;(0.8991141, in…</td></tr><tr><td>&quot;1:1472047&quot;</td><td>0.297659</td><td>&quot;(0.201307, 0.2…</td></tr></tbody></table></div>"
      ],
      "text/plain": [
       "shape: (2, 3)\n",
       "┌────────────┬──────────┬──────────────────────┐\n",
       "│ variant_id ┆ p_value  ┆ quantile             │\n",
       "│ ---        ┆ ---      ┆ ---                  │\n",
       "│ str        ┆ f64      ┆ cat                  │\n",
       "╞════════════╪══════════╪══════════════════════╡\n",
       "│ 1:1467485  ┆ 0.949241 ┆ (0.8991141, inf]     │\n",
       "│ 1:1472047  ┆ 0.297659 ┆ (0.201307, 0.299057] │\n",
       "└────────────┴──────────┴──────────────────────┘"
      ]
     },
     "execution_count": 4,
     "metadata": {},
     "output_type": "execute_result"
    }
   ],
   "source": [
    "sampled_variant_df = (\n",
    "    pl.read_csv(direct_paths[0], separator=\"\\t\", columns=[\"ID\", \"P\"])\n",
    "    .rename({\"ID\": \"variant_id\", \"P\": \"p_value\"})\n",
    "    .with_columns(quantile=pl.col(\"p_value\").qcut(10))\n",
    "    .filter(pl.int_range(0, pl.len()).shuffle(seed=0).over(\"quantile\") < 1000)\n",
    ")\n",
    "\n",
    "sampled_variant_df.head(2)"
   ]
  },
  {
   "cell_type": "code",
   "execution_count": null,
   "id": "82d2f3bb-c6b8-4cec-afd8-32484150097b",
   "metadata": {},
   "outputs": [
    {
     "name": "stderr",
     "output_type": "stream",
     "text": [
      "100%|██████████████████████████████████████████████████████████████████████████████████████████████████| 1238/1238 [3:37:51<00:00, 10.56s/it]\n",
      "100%|██████████████████████████████████████████████████████████████████████████████████████████████████| 1238/1238 [3:36:35<00:00, 10.50s/it]\n",
      " 51%|█████████████████████████████████████████████████▊                                               | 636/1238 [1:50:58<1:42:38, 10.23s/it]"
     ]
    }
   ],
   "source": [
    "for igwas_path in igwas_paths:\n",
    "    fit_quality = list()\n",
    "    full_sampled_df = None\n",
    "    \n",
    "    fraction = float(igwas_path.stem.replace(\".tsv\", \"\").replace(\"pca_\", \"\"))\n",
    "    igwas_df = pl.read_csv(igwas_path, separator=\"\\t\", columns=[\"phenotype_id\", \"variant_id\", \"p_value\"])\n",
    "\n",
    "    for gwas_path in tqdm.tqdm(sorted(direct_paths)):\n",
    "        phenotype_id = gwas_path.stem.replace(\".glm.linear\", \"\").replace(\"plink.\", \"\")\n",
    "        direct_df = (\n",
    "            pl.read_csv(gwas_path, separator=\"\\t\", columns=[\"ID\", \"P\"])\n",
    "            .rename({\"ID\": \"variant_id\", \"P\": \"p_value\"})\n",
    "        )\n",
    "    \n",
    "        merged_df = (\n",
    "            igwas_df\n",
    "            .filter(pl.col(\"phenotype_id\").eq(phenotype_id))\n",
    "            .join(direct_df, on=[\"variant_id\"], suffix=\"_direct\")\n",
    "            .with_columns(p_value_direct=-pl.col(\"p_value_direct\").log(10))\n",
    "        )\n",
    "        \n",
    "        r2 = (\n",
    "            merged_df\n",
    "            .select(\n",
    "                rss=(pl.col(\"p_value\") - pl.col(\"p_value_direct\")).pow(2).sum(),\n",
    "                tss=(pl.col(\"p_value_direct\") - pl.col(\"p_value_direct\").mean()).pow(2).sum(),\n",
    "            )\n",
    "            .select(r2=1 - pl.col(\"rss\") / pl.col(\"tss\"))\n",
    "            .item()\n",
    "        )\n",
    "        result_row = {\n",
    "            \"phenotype_id\": phenotype_id,\n",
    "            \"fraction_pcs\": fraction,\n",
    "            \"r2\": r2,\n",
    "        }\n",
    "        fit_quality.append(result_row)\n",
    "\n",
    "        sampled_df = merged_df.join(sampled_variant_df, on=\"variant_id\").with_columns(fraction=fraction)\n",
    "        if full_sampled_df is None:\n",
    "            full_sampled_df = sampled_df\n",
    "        else:\n",
    "            full_sampled_df = pl.concat([full_sampled_df, sampled_df])\n",
    "\n",
    "    fit_quality_df = pl.DataFrame(fit_quality)\n",
    "    \n",
    "    fit_quality_df.write_parquet(f\"plot_data/fit_quality_{fraction}.parquet\")\n",
    "    full_sampled_df.write_parquet(f\"plot_data/sampled_variants_pvalues_{fraction}.parquet\")"
   ]
  }
 ],
 "metadata": {
  "kernelspec": {
   "display_name": "Python 3 (ipykernel)",
   "language": "python",
   "name": "python3"
  },
  "language_info": {
   "codemirror_mode": {
    "name": "ipython",
    "version": 3
   },
   "file_extension": ".py",
   "mimetype": "text/x-python",
   "name": "python",
   "nbconvert_exporter": "python",
   "pygments_lexer": "ipython3",
   "version": "3.11.6"
  }
 },
 "nbformat": 4,
 "nbformat_minor": 5
}
