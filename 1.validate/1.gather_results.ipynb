{
 "cells": [
  {
   "cell_type": "code",
   "execution_count": 1,
   "id": "97ce3897-c29b-48a0-9c00-dd1d42cf15fd",
   "metadata": {},
   "outputs": [],
   "source": [
    "import pathlib\n",
    "\n",
    "import pandas as pd\n",
    "import polars as pl"
   ]
  },
  {
   "cell_type": "markdown",
   "id": "c8298089-7cee-40a4-a7a2-3e2d1b41c916",
   "metadata": {},
   "source": [
    "# OLS univariate"
   ]
  },
  {
   "cell_type": "code",
   "execution_count": 2,
   "id": "25e0096e-dd6c-4171-a8e2-337888666aca",
   "metadata": {},
   "outputs": [
    {
     "data": {
      "text/html": [
       "<div><style>\n",
       ".dataframe > thead > tr,\n",
       ".dataframe > tbody > tr {\n",
       "  text-align: right;\n",
       "  white-space: pre-wrap;\n",
       "}\n",
       "</style>\n",
       "<small>shape: (2, 7)</small><table border=\"1\" class=\"dataframe\"><thead><tr><th>phenotype_id</th><th>variant_id</th><th>beta</th><th>std_error</th><th>chisq</th><th>log10p</th><th>sample_size</th></tr><tr><td>str</td><td>str</td><td>f64</td><td>f64</td><td>f64</td><td>f64</td><td>i64</td></tr></thead><tbody><tr><td>&quot;PROJ002&quot;</td><td>&quot;1:761147&quot;</td><td>-0.010403</td><td>0.0154167</td><td>0.455366</td><td>0.301204</td><td>100000</td></tr><tr><td>&quot;PROJ002&quot;</td><td>&quot;1:768448&quot;</td><td>0.0180045</td><td>0.0179621</td><td>1.004726</td><td>0.500077</td><td>100000</td></tr></tbody></table></div>"
      ],
      "text/plain": [
       "shape: (2, 7)\n",
       "┌──────────────┬────────────┬───────────┬───────────┬──────────┬──────────┬─────────────┐\n",
       "│ phenotype_id ┆ variant_id ┆ beta      ┆ std_error ┆ chisq    ┆ log10p   ┆ sample_size │\n",
       "│ ---          ┆ ---        ┆ ---       ┆ ---       ┆ ---      ┆ ---      ┆ ---         │\n",
       "│ str          ┆ str        ┆ f64       ┆ f64       ┆ f64      ┆ f64      ┆ i64         │\n",
       "╞══════════════╪════════════╪═══════════╪═══════════╪══════════╪══════════╪═════════════╡\n",
       "│ PROJ002      ┆ 1:761147   ┆ -0.010403 ┆ 0.0154167 ┆ 0.455366 ┆ 0.301204 ┆ 100000      │\n",
       "│ PROJ002      ┆ 1:768448   ┆ 0.0180045 ┆ 0.0179621 ┆ 1.004726 ┆ 0.500077 ┆ 100000      │\n",
       "└──────────────┴────────────┴───────────┴───────────┴──────────┴──────────┴─────────────┘"
      ]
     },
     "execution_count": 2,
     "metadata": {},
     "output_type": "execute_result"
    }
   ],
   "source": [
    "direct_univariate_paths = list(pathlib.Path(\"data/direct/ols_univariate\").glob(\"plink.PROJ*.glm.linear.zst\"))\n",
    "\n",
    "direct_univariate_df = (\n",
    "    pd.concat([\n",
    "        pd.read_csv(path, sep=\"\\s+\", usecols=[\"ID\", \"BETA\", \"SE\", \"T_STAT\", \"P\", \"OBS_CT\"])\n",
    "            .assign(phenotype_id=path.stem.replace(\"plink.\", \"\").replace(\".glm.linear\", \"\"))\n",
    "        for path in direct_univariate_paths\n",
    "    ])\n",
    "    .pipe(pl.DataFrame)\n",
    "    .select(\"phenotype_id\", variant_id=\"ID\", beta=\"BETA\", std_error=\"SE\", \n",
    "            chisq=pl.col(\"T_STAT\").pow(2), log10p=pl.col(\"P\").log(10).mul(-1), sample_size=\"OBS_CT\")\n",
    ")\n",
    "\n",
    "direct_univariate_df.head(2)"
   ]
  },
  {
   "cell_type": "code",
   "execution_count": 3,
   "id": "7755891f-03cb-49de-bce1-f8fc68d88f24",
   "metadata": {},
   "outputs": [
    {
     "data": {
      "text/html": [
       "<div><style>\n",
       ".dataframe > thead > tr,\n",
       ".dataframe > tbody > tr {\n",
       "  text-align: right;\n",
       "  white-space: pre-wrap;\n",
       "}\n",
       "</style>\n",
       "<small>shape: (2, 7)</small><table border=\"1\" class=\"dataframe\"><thead><tr><th>phenotype_id</th><th>variant_id</th><th>beta</th><th>std_error</th><th>chisq</th><th>log10p</th><th>sample_size</th></tr><tr><td>str</td><td>str</td><td>f64</td><td>f64</td><td>f64</td><td>f64</td><td>i64</td></tr></thead><tbody><tr><td>&quot;PROJ001&quot;</td><td>&quot;1:761147&quot;</td><td>0.027324</td><td>0.024054</td><td>1.29039</td><td>0.591796</td><td>100000</td></tr><tr><td>&quot;PROJ001&quot;</td><td>&quot;1:768448&quot;</td><td>-0.029101</td><td>0.028025</td><td>1.078261</td><td>0.5241989</td><td>100000</td></tr></tbody></table></div>"
      ],
      "text/plain": [
       "shape: (2, 7)\n",
       "┌──────────────┬────────────┬───────────┬───────────┬──────────┬───────────┬─────────────┐\n",
       "│ phenotype_id ┆ variant_id ┆ beta      ┆ std_error ┆ chisq    ┆ log10p    ┆ sample_size │\n",
       "│ ---          ┆ ---        ┆ ---       ┆ ---       ┆ ---      ┆ ---       ┆ ---         │\n",
       "│ str          ┆ str        ┆ f64       ┆ f64       ┆ f64      ┆ f64       ┆ i64         │\n",
       "╞══════════════╪════════════╪═══════════╪═══════════╪══════════╪═══════════╪═════════════╡\n",
       "│ PROJ001      ┆ 1:761147   ┆ 0.027324  ┆ 0.024054  ┆ 1.29039  ┆ 0.591796  ┆ 100000      │\n",
       "│ PROJ001      ┆ 1:768448   ┆ -0.029101 ┆ 0.028025  ┆ 1.078261 ┆ 0.5241989 ┆ 100000      │\n",
       "└──────────────┴────────────┴───────────┴───────────┴──────────┴───────────┴─────────────┘"
      ]
     },
     "execution_count": 3,
     "metadata": {},
     "output_type": "execute_result"
    }
   ],
   "source": [
    "indirect_univariate_df = (\n",
    "    pl.read_csv(\"data/igwas/univariate.tsv.zst\", separator=\"\\t\")\n",
    "    .select(\"phenotype_id\", \"variant_id\", \"beta\", \"std_error\", \n",
    "            pl.col(\"t_stat\").pow(2).alias(\"chisq\"), pl.col(\"p_value\").alias(\"log10p\"), \n",
    "            \"sample_size\")\n",
    ")\n",
    "\n",
    "indirect_univariate_df.head(2)"
   ]
  },
  {
   "cell_type": "code",
   "execution_count": 4,
   "id": "9dfd3bb9-ccf2-42be-876b-11532128a534",
   "metadata": {},
   "outputs": [
    {
     "data": {
      "text/html": [
       "<div><style>\n",
       ".dataframe > thead > tr,\n",
       ".dataframe > tbody > tr {\n",
       "  text-align: right;\n",
       "  white-space: pre-wrap;\n",
       "}\n",
       "</style>\n",
       "<small>shape: (2, 12)</small><table border=\"1\" class=\"dataframe\"><thead><tr><th>phenotype_id</th><th>variant_id</th><th>beta</th><th>std_error</th><th>chisq</th><th>log10p</th><th>sample_size</th><th>beta_indirect</th><th>std_error_indirect</th><th>chisq_indirect</th><th>log10p_indirect</th><th>sample_size_indirect</th></tr><tr><td>str</td><td>str</td><td>f64</td><td>f64</td><td>f64</td><td>f64</td><td>i64</td><td>f64</td><td>f64</td><td>f64</td><td>f64</td><td>i64</td></tr></thead><tbody><tr><td>&quot;PROJ001&quot;</td><td>&quot;1:761147&quot;</td><td>0.0272141</td><td>0.0240502</td><td>1.280428</td><td>0.588677</td><td>99999</td><td>0.027324</td><td>0.024054</td><td>1.29039</td><td>0.591796</td><td>100000</td></tr><tr><td>&quot;PROJ001&quot;</td><td>&quot;1:768448&quot;</td><td>-0.029204</td><td>0.0280211</td><td>1.086181</td><td>0.526773</td><td>99999</td><td>-0.029101</td><td>0.028025</td><td>1.078261</td><td>0.5241989</td><td>100000</td></tr></tbody></table></div>"
      ],
      "text/plain": [
       "shape: (2, 12)\n",
       "┌───────────┬───────────┬───────────┬───────────┬───┬───────────┬───────────┬───────────┬──────────┐\n",
       "│ phenotype ┆ variant_i ┆ beta      ┆ std_error ┆ … ┆ std_error ┆ chisq_ind ┆ log10p_in ┆ sample_s │\n",
       "│ _id       ┆ d         ┆ ---       ┆ ---       ┆   ┆ _indirect ┆ irect     ┆ direct    ┆ ize_indi │\n",
       "│ ---       ┆ ---       ┆ f64       ┆ f64       ┆   ┆ ---       ┆ ---       ┆ ---       ┆ rect     │\n",
       "│ str       ┆ str       ┆           ┆           ┆   ┆ f64       ┆ f64       ┆ f64       ┆ ---      │\n",
       "│           ┆           ┆           ┆           ┆   ┆           ┆           ┆           ┆ i64      │\n",
       "╞═══════════╪═══════════╪═══════════╪═══════════╪═══╪═══════════╪═══════════╪═══════════╪══════════╡\n",
       "│ PROJ001   ┆ 1:761147  ┆ 0.0272141 ┆ 0.0240502 ┆ … ┆ 0.024054  ┆ 1.29039   ┆ 0.591796  ┆ 100000   │\n",
       "│ PROJ001   ┆ 1:768448  ┆ -0.029204 ┆ 0.0280211 ┆ … ┆ 0.028025  ┆ 1.078261  ┆ 0.5241989 ┆ 100000   │\n",
       "└───────────┴───────────┴───────────┴───────────┴───┴───────────┴───────────┴───────────┴──────────┘"
      ]
     },
     "execution_count": 4,
     "metadata": {},
     "output_type": "execute_result"
    }
   ],
   "source": [
    "univariate_comparison_df = (\n",
    "    direct_univariate_df\n",
    "    .join(indirect_univariate_df, on=[\"phenotype_id\", \"variant_id\"], suffix=\"_indirect\")\n",
    ")\n",
    "\n",
    "univariate_comparison_df.head(2)"
   ]
  },
  {
   "cell_type": "code",
   "execution_count": 5,
   "id": "795c8f42-c5dc-418c-a555-0d7a391bfc83",
   "metadata": {},
   "outputs": [],
   "source": [
    "univariate_comparison_df.write_parquet(\"plot_data/univariate.parquet\")"
   ]
  },
  {
   "cell_type": "markdown",
   "id": "f880a464-ad49-414e-a3a6-4e916b4ba9b0",
   "metadata": {},
   "source": [
    "# OLS multivariate"
   ]
  },
  {
   "cell_type": "code",
   "execution_count": 6,
   "id": "810c5f09-4e4f-42d9-ac29-dcf6166f267b",
   "metadata": {},
   "outputs": [
    {
     "data": {
      "text/html": [
       "<div><style>\n",
       ".dataframe > thead > tr,\n",
       ".dataframe > tbody > tr {\n",
       "  text-align: right;\n",
       "  white-space: pre-wrap;\n",
       "}\n",
       "</style>\n",
       "<small>shape: (2, 7)</small><table border=\"1\" class=\"dataframe\"><thead><tr><th>phenotype_id</th><th>variant_id</th><th>beta</th><th>std_error</th><th>chisq</th><th>log10p</th><th>sample_size</th></tr><tr><td>str</td><td>str</td><td>f64</td><td>f64</td><td>f64</td><td>f64</td><td>i64</td></tr></thead><tbody><tr><td>&quot;PROJ002&quot;</td><td>&quot;1:761147&quot;</td><td>-0.01085</td><td>0.0152572</td><td>0.505731</td><td>0.321487</td><td>100000</td></tr><tr><td>&quot;PROJ002&quot;</td><td>&quot;1:768448&quot;</td><td>0.0213846</td><td>0.0177671</td><td>1.448677</td><td>0.640654</td><td>100000</td></tr></tbody></table></div>"
      ],
      "text/plain": [
       "shape: (2, 7)\n",
       "┌──────────────┬────────────┬───────────┬───────────┬──────────┬──────────┬─────────────┐\n",
       "│ phenotype_id ┆ variant_id ┆ beta      ┆ std_error ┆ chisq    ┆ log10p   ┆ sample_size │\n",
       "│ ---          ┆ ---        ┆ ---       ┆ ---       ┆ ---      ┆ ---      ┆ ---         │\n",
       "│ str          ┆ str        ┆ f64       ┆ f64       ┆ f64      ┆ f64      ┆ i64         │\n",
       "╞══════════════╪════════════╪═══════════╪═══════════╪══════════╪══════════╪═════════════╡\n",
       "│ PROJ002      ┆ 1:761147   ┆ -0.01085  ┆ 0.0152572 ┆ 0.505731 ┆ 0.321487 ┆ 100000      │\n",
       "│ PROJ002      ┆ 1:768448   ┆ 0.0213846 ┆ 0.0177671 ┆ 1.448677 ┆ 0.640654 ┆ 100000      │\n",
       "└──────────────┴────────────┴───────────┴───────────┴──────────┴──────────┴─────────────┘"
      ]
     },
     "execution_count": 6,
     "metadata": {},
     "output_type": "execute_result"
    }
   ],
   "source": [
    "direct_multivariate_paths = list(pathlib.Path(\"data/direct/ols_multivariate\").glob(\"plink.PROJ*.glm.linear.zst\"))\n",
    "\n",
    "direct_multivariate_df = (\n",
    "    pd.concat([\n",
    "        pd.read_csv(path, sep=\"\\s+\", usecols=[\"ID\", \"BETA\", \"SE\", \"T_STAT\", \"P\", \"OBS_CT\"])\n",
    "            .assign(phenotype_id=path.stem.replace(\"plink.\", \"\").replace(\".glm.linear\", \"\"))\n",
    "        for path in direct_multivariate_paths\n",
    "    ])\n",
    "    .pipe(pl.DataFrame)\n",
    "    .select(\"phenotype_id\", variant_id=\"ID\", beta=\"BETA\", std_error=\"SE\", \n",
    "            chisq=pl.col(\"T_STAT\").pow(2), log10p=pl.col(\"P\").log(10).mul(-1), sample_size=\"OBS_CT\")\n",
    ")\n",
    "\n",
    "direct_multivariate_df.head(2)"
   ]
  },
  {
   "cell_type": "code",
   "execution_count": 7,
   "id": "423fb894-566f-421b-82a3-5403a6f5f636",
   "metadata": {},
   "outputs": [
    {
     "data": {
      "text/html": [
       "<div><style>\n",
       ".dataframe > thead > tr,\n",
       ".dataframe > tbody > tr {\n",
       "  text-align: right;\n",
       "  white-space: pre-wrap;\n",
       "}\n",
       "</style>\n",
       "<small>shape: (2, 7)</small><table border=\"1\" class=\"dataframe\"><thead><tr><th>phenotype_id</th><th>variant_id</th><th>beta</th><th>std_error</th><th>chisq</th><th>log10p</th><th>sample_size</th></tr><tr><td>str</td><td>str</td><td>f64</td><td>f64</td><td>f64</td><td>f64</td><td>i64</td></tr></thead><tbody><tr><td>&quot;PROJ001&quot;</td><td>&quot;1:761147&quot;</td><td>0.019287</td><td>0.0234371</td><td>0.677203</td><td>0.3866302</td><td>100000</td></tr><tr><td>&quot;PROJ001&quot;</td><td>&quot;1:768448&quot;</td><td>-0.020533</td><td>0.027293</td><td>0.565981</td><td>0.344994</td><td>100000</td></tr></tbody></table></div>"
      ],
      "text/plain": [
       "shape: (2, 7)\n",
       "┌──────────────┬────────────┬───────────┬───────────┬──────────┬───────────┬─────────────┐\n",
       "│ phenotype_id ┆ variant_id ┆ beta      ┆ std_error ┆ chisq    ┆ log10p    ┆ sample_size │\n",
       "│ ---          ┆ ---        ┆ ---       ┆ ---       ┆ ---      ┆ ---       ┆ ---         │\n",
       "│ str          ┆ str        ┆ f64       ┆ f64       ┆ f64      ┆ f64       ┆ i64         │\n",
       "╞══════════════╪════════════╪═══════════╪═══════════╪══════════╪═══════════╪═════════════╡\n",
       "│ PROJ001      ┆ 1:761147   ┆ 0.019287  ┆ 0.0234371 ┆ 0.677203 ┆ 0.3866302 ┆ 100000      │\n",
       "│ PROJ001      ┆ 1:768448   ┆ -0.020533 ┆ 0.027293  ┆ 0.565981 ┆ 0.344994  ┆ 100000      │\n",
       "└──────────────┴────────────┴───────────┴───────────┴──────────┴───────────┴─────────────┘"
      ]
     },
     "execution_count": 7,
     "metadata": {},
     "output_type": "execute_result"
    }
   ],
   "source": [
    "indirect_multivariate_df = (\n",
    "    pl.read_csv(\"data/igwas/multivariate.tsv.zst\", separator=\"\\t\")\n",
    "    .select(\"phenotype_id\", \"variant_id\", \"beta\", \"std_error\", \n",
    "            pl.col(\"t_stat\").pow(2).alias(\"chisq\"), pl.col(\"p_value\").alias(\"log10p\"), \n",
    "            \"sample_size\")\n",
    ")\n",
    "\n",
    "indirect_multivariate_df.head(2)"
   ]
  },
  {
   "cell_type": "code",
   "execution_count": 8,
   "id": "d9353f5d-ec4c-496c-8f5d-05046c6d00a7",
   "metadata": {},
   "outputs": [
    {
     "data": {
      "text/html": [
       "<div><style>\n",
       ".dataframe > thead > tr,\n",
       ".dataframe > tbody > tr {\n",
       "  text-align: right;\n",
       "  white-space: pre-wrap;\n",
       "}\n",
       "</style>\n",
       "<small>shape: (2, 12)</small><table border=\"1\" class=\"dataframe\"><thead><tr><th>phenotype_id</th><th>variant_id</th><th>beta</th><th>std_error</th><th>chisq</th><th>log10p</th><th>sample_size</th><th>beta_indirect</th><th>std_error_indirect</th><th>chisq_indirect</th><th>log10p_indirect</th><th>sample_size_indirect</th></tr><tr><td>str</td><td>str</td><td>f64</td><td>f64</td><td>f64</td><td>f64</td><td>i64</td><td>f64</td><td>f64</td><td>f64</td><td>f64</td><td>i64</td></tr></thead><tbody><tr><td>&quot;PROJ001&quot;</td><td>&quot;1:761147&quot;</td><td>0.0191819</td><td>0.0234841</td><td>0.667169</td><td>0.382955</td><td>99999</td><td>0.019287</td><td>0.0234371</td><td>0.677203</td><td>0.3866302</td><td>100000</td></tr><tr><td>&quot;PROJ001&quot;</td><td>&quot;1:768448&quot;</td><td>-0.020624</td><td>0.0273474</td><td>0.568747</td><td>0.346056</td><td>99999</td><td>-0.020533</td><td>0.027293</td><td>0.565981</td><td>0.344994</td><td>100000</td></tr></tbody></table></div>"
      ],
      "text/plain": [
       "shape: (2, 12)\n",
       "┌───────────┬───────────┬───────────┬───────────┬───┬───────────┬───────────┬───────────┬──────────┐\n",
       "│ phenotype ┆ variant_i ┆ beta      ┆ std_error ┆ … ┆ std_error ┆ chisq_ind ┆ log10p_in ┆ sample_s │\n",
       "│ _id       ┆ d         ┆ ---       ┆ ---       ┆   ┆ _indirect ┆ irect     ┆ direct    ┆ ize_indi │\n",
       "│ ---       ┆ ---       ┆ f64       ┆ f64       ┆   ┆ ---       ┆ ---       ┆ ---       ┆ rect     │\n",
       "│ str       ┆ str       ┆           ┆           ┆   ┆ f64       ┆ f64       ┆ f64       ┆ ---      │\n",
       "│           ┆           ┆           ┆           ┆   ┆           ┆           ┆           ┆ i64      │\n",
       "╞═══════════╪═══════════╪═══════════╪═══════════╪═══╪═══════════╪═══════════╪═══════════╪══════════╡\n",
       "│ PROJ001   ┆ 1:761147  ┆ 0.0191819 ┆ 0.0234841 ┆ … ┆ 0.0234371 ┆ 0.677203  ┆ 0.3866302 ┆ 100000   │\n",
       "│ PROJ001   ┆ 1:768448  ┆ -0.020624 ┆ 0.0273474 ┆ … ┆ 0.027293  ┆ 0.565981  ┆ 0.344994  ┆ 100000   │\n",
       "└───────────┴───────────┴───────────┴───────────┴───┴───────────┴───────────┴───────────┴──────────┘"
      ]
     },
     "execution_count": 8,
     "metadata": {},
     "output_type": "execute_result"
    }
   ],
   "source": [
    "multivariate_comparison_df = (\n",
    "    direct_multivariate_df\n",
    "    .join(indirect_multivariate_df, on=[\"phenotype_id\", \"variant_id\"], suffix=\"_indirect\")\n",
    ")\n",
    "\n",
    "multivariate_comparison_df.head(2)"
   ]
  },
  {
   "cell_type": "code",
   "execution_count": 9,
   "id": "255b9cfc-ea01-478a-bdfd-f18d58a9e5f3",
   "metadata": {},
   "outputs": [],
   "source": [
    "multivariate_comparison_df.write_parquet(\"plot_data/multivariate.parquet\")"
   ]
  },
  {
   "cell_type": "markdown",
   "id": "41e958c9-50b0-4452-ae1a-5b8215fc5b5e",
   "metadata": {},
   "source": [
    "# Regenie"
   ]
  },
  {
   "cell_type": "code",
   "execution_count": 10,
   "id": "8e3fecd2-05eb-4c1d-8dcd-a103bf363fd0",
   "metadata": {},
   "outputs": [
    {
     "data": {
      "text/html": [
       "<div><style>\n",
       ".dataframe > thead > tr,\n",
       ".dataframe > tbody > tr {\n",
       "  text-align: right;\n",
       "  white-space: pre-wrap;\n",
       "}\n",
       "</style>\n",
       "<small>shape: (2, 7)</small><table border=\"1\" class=\"dataframe\"><thead><tr><th>phenotype_id</th><th>variant_id</th><th>beta</th><th>std_error</th><th>chisq</th><th>log10p</th><th>sample_size</th></tr><tr><td>str</td><td>str</td><td>f64</td><td>f64</td><td>f64</td><td>f64</td><td>i64</td></tr></thead><tbody><tr><td>&quot;PROJ001&quot;</td><td>&quot;1:761147&quot;</td><td>-0.026962</td><td>0.019455</td><td>1.920618</td><td>0.780437</td><td>100000</td></tr><tr><td>&quot;PROJ001&quot;</td><td>&quot;1:768448&quot;</td><td>-0.009058</td><td>0.022656</td><td>0.15983</td><td>0.161583</td><td>100000</td></tr></tbody></table></div>"
      ],
      "text/plain": [
       "shape: (2, 7)\n",
       "┌──────────────┬────────────┬───────────┬───────────┬──────────┬──────────┬─────────────┐\n",
       "│ phenotype_id ┆ variant_id ┆ beta      ┆ std_error ┆ chisq    ┆ log10p   ┆ sample_size │\n",
       "│ ---          ┆ ---        ┆ ---       ┆ ---       ┆ ---      ┆ ---      ┆ ---         │\n",
       "│ str          ┆ str        ┆ f64       ┆ f64       ┆ f64      ┆ f64      ┆ i64         │\n",
       "╞══════════════╪════════════╪═══════════╪═══════════╪══════════╪══════════╪═════════════╡\n",
       "│ PROJ001      ┆ 1:761147   ┆ -0.026962 ┆ 0.019455  ┆ 1.920618 ┆ 0.780437 ┆ 100000      │\n",
       "│ PROJ001      ┆ 1:768448   ┆ -0.009058 ┆ 0.022656  ┆ 0.15983  ┆ 0.161583 ┆ 100000      │\n",
       "└──────────────┴────────────┴───────────┴───────────┴──────────┴──────────┴─────────────┘"
      ]
     },
     "execution_count": 10,
     "metadata": {},
     "output_type": "execute_result"
    }
   ],
   "source": [
    "indirect_regenie_df = (\n",
    "    pl.read_csv(\"data/igwas/regenie.tsv.zst\", separator=\"\\t\")\n",
    "    .select(\"phenotype_id\", \"variant_id\", \"beta\", \"std_error\", \n",
    "            pl.col(\"t_stat\").pow(2).alias(\"chisq\"), pl.col(\"p_value\").alias(\"log10p\"), \n",
    "            \"sample_size\")\n",
    ")\n",
    "\n",
    "indirect_regenie_df.head(2)"
   ]
  },
  {
   "cell_type": "code",
   "execution_count": 11,
   "id": "1a009c9e-02c4-4d01-8e5c-05ea07eb68da",
   "metadata": {},
   "outputs": [
    {
     "data": {
      "text/html": [
       "<div><style>\n",
       ".dataframe > thead > tr,\n",
       ".dataframe > tbody > tr {\n",
       "  text-align: right;\n",
       "  white-space: pre-wrap;\n",
       "}\n",
       "</style>\n",
       "<small>shape: (2, 7)</small><table border=\"1\" class=\"dataframe\"><thead><tr><th>phenotype_id</th><th>variant_id</th><th>beta</th><th>std_error</th><th>chisq</th><th>log10p</th><th>sample_size</th></tr><tr><td>str</td><td>str</td><td>f64</td><td>f64</td><td>f64</td><td>f64</td><td>i64</td></tr></thead><tbody><tr><td>&quot;PROJ001&quot;</td><td>&quot;1:761147&quot;</td><td>-0.02854</td><td>0.0230651</td><td>1.53107</td><td>0.665644</td><td>100000</td></tr><tr><td>&quot;PROJ001&quot;</td><td>&quot;1:768448&quot;</td><td>-0.009317</td><td>0.0268595</td><td>0.120321</td><td>0.137459</td><td>100000</td></tr></tbody></table></div>"
      ],
      "text/plain": [
       "shape: (2, 7)\n",
       "┌──────────────┬────────────┬───────────┬───────────┬──────────┬──────────┬─────────────┐\n",
       "│ phenotype_id ┆ variant_id ┆ beta      ┆ std_error ┆ chisq    ┆ log10p   ┆ sample_size │\n",
       "│ ---          ┆ ---        ┆ ---       ┆ ---       ┆ ---      ┆ ---      ┆ ---         │\n",
       "│ str          ┆ str        ┆ f64       ┆ f64       ┆ f64      ┆ f64      ┆ i64         │\n",
       "╞══════════════╪════════════╪═══════════╪═══════════╪══════════╪══════════╪═════════════╡\n",
       "│ PROJ001      ┆ 1:761147   ┆ -0.02854  ┆ 0.0230651 ┆ 1.53107  ┆ 0.665644 ┆ 100000      │\n",
       "│ PROJ001      ┆ 1:768448   ┆ -0.009317 ┆ 0.0268595 ┆ 0.120321 ┆ 0.137459 ┆ 100000      │\n",
       "└──────────────┴────────────┴───────────┴───────────┴──────────┴──────────┴─────────────┘"
      ]
     },
     "execution_count": 11,
     "metadata": {},
     "output_type": "execute_result"
    }
   ],
   "source": [
    "direct_regenie_paths = list(pathlib.Path(\"data/direct/regenie\").glob(\"direct_PROJ*.regenie.gz\"))\n",
    "\n",
    "direct_regenie_df = (\n",
    "    pd.concat([\n",
    "        pd.read_csv(path, sep=\"\\s+\", usecols=[\"ID\", \"N\", \"BETA\", \"SE\", \"CHISQ\", \"LOG10P\"])\n",
    "            .assign(phenotype_id=path.stem.replace(\"direct_\", \"\").replace(\".regenie\", \"\"))\n",
    "        for path in direct_regenie_paths\n",
    "    ])\n",
    "    .pipe(pl.DataFrame)\n",
    "    .select(\"phenotype_id\", variant_id=\"ID\", beta=\"BETA\", std_error=\"SE\", \n",
    "            chisq=\"CHISQ\", log10p=\"LOG10P\", sample_size=\"N\")\n",
    ")\n",
    "\n",
    "direct_regenie_df.head(2)"
   ]
  },
  {
   "cell_type": "code",
   "execution_count": 12,
   "id": "c29e32bc-1b6d-4c27-b096-c7e5e929ff14",
   "metadata": {},
   "outputs": [
    {
     "data": {
      "text/html": [
       "<div><style>\n",
       ".dataframe > thead > tr,\n",
       ".dataframe > tbody > tr {\n",
       "  text-align: right;\n",
       "  white-space: pre-wrap;\n",
       "}\n",
       "</style>\n",
       "<small>shape: (2, 12)</small><table border=\"1\" class=\"dataframe\"><thead><tr><th>phenotype_id</th><th>variant_id</th><th>beta</th><th>std_error</th><th>chisq</th><th>log10p</th><th>sample_size</th><th>beta_indirect</th><th>std_error_indirect</th><th>chisq_indirect</th><th>log10p_indirect</th><th>sample_size_indirect</th></tr><tr><td>str</td><td>str</td><td>f64</td><td>f64</td><td>f64</td><td>f64</td><td>i64</td><td>f64</td><td>f64</td><td>f64</td><td>f64</td><td>i64</td></tr></thead><tbody><tr><td>&quot;PROJ001&quot;</td><td>&quot;1:761147&quot;</td><td>-0.02854</td><td>0.0230651</td><td>1.53107</td><td>0.665644</td><td>100000</td><td>-0.026962</td><td>0.019455</td><td>1.920618</td><td>0.780437</td><td>100000</td></tr><tr><td>&quot;PROJ001&quot;</td><td>&quot;1:768448&quot;</td><td>-0.009317</td><td>0.0268595</td><td>0.120321</td><td>0.137459</td><td>100000</td><td>-0.009058</td><td>0.022656</td><td>0.15983</td><td>0.161583</td><td>100000</td></tr></tbody></table></div>"
      ],
      "text/plain": [
       "shape: (2, 12)\n",
       "┌───────────┬───────────┬───────────┬───────────┬───┬───────────┬───────────┬───────────┬──────────┐\n",
       "│ phenotype ┆ variant_i ┆ beta      ┆ std_error ┆ … ┆ std_error ┆ chisq_ind ┆ log10p_in ┆ sample_s │\n",
       "│ _id       ┆ d         ┆ ---       ┆ ---       ┆   ┆ _indirect ┆ irect     ┆ direct    ┆ ize_indi │\n",
       "│ ---       ┆ ---       ┆ f64       ┆ f64       ┆   ┆ ---       ┆ ---       ┆ ---       ┆ rect     │\n",
       "│ str       ┆ str       ┆           ┆           ┆   ┆ f64       ┆ f64       ┆ f64       ┆ ---      │\n",
       "│           ┆           ┆           ┆           ┆   ┆           ┆           ┆           ┆ i64      │\n",
       "╞═══════════╪═══════════╪═══════════╪═══════════╪═══╪═══════════╪═══════════╪═══════════╪══════════╡\n",
       "│ PROJ001   ┆ 1:761147  ┆ -0.02854  ┆ 0.0230651 ┆ … ┆ 0.019455  ┆ 1.920618  ┆ 0.780437  ┆ 100000   │\n",
       "│ PROJ001   ┆ 1:768448  ┆ -0.009317 ┆ 0.0268595 ┆ … ┆ 0.022656  ┆ 0.15983   ┆ 0.161583  ┆ 100000   │\n",
       "└───────────┴───────────┴───────────┴───────────┴───┴───────────┴───────────┴───────────┴──────────┘"
      ]
     },
     "execution_count": 12,
     "metadata": {},
     "output_type": "execute_result"
    }
   ],
   "source": [
    "regenie_comparison_df = (\n",
    "    direct_regenie_df\n",
    "    .join(indirect_regenie_df, on=[\"phenotype_id\", \"variant_id\"], suffix=\"_indirect\")\n",
    ")\n",
    "\n",
    "regenie_comparison_df.head(2)"
   ]
  },
  {
   "cell_type": "code",
   "execution_count": 13,
   "id": "0f5cd668-9499-4b51-9ae8-bed99d4181d0",
   "metadata": {},
   "outputs": [],
   "source": [
    "regenie_comparison_df.write_parquet(\"plot_data/regenie.parquet\")"
   ]
  },
  {
   "cell_type": "markdown",
   "id": "5898e150-d940-435a-9422-9d1ade3b2efa",
   "metadata": {},
   "source": [
    "# FastGWA"
   ]
  },
  {
   "cell_type": "code",
   "execution_count": 14,
   "id": "5c4afed3-e1c8-42eb-a9ba-6a3b20ab0ddd",
   "metadata": {},
   "outputs": [
    {
     "data": {
      "text/html": [
       "<div><style>\n",
       ".dataframe > thead > tr,\n",
       ".dataframe > tbody > tr {\n",
       "  text-align: right;\n",
       "  white-space: pre-wrap;\n",
       "}\n",
       "</style>\n",
       "<small>shape: (2, 7)</small><table border=\"1\" class=\"dataframe\"><thead><tr><th>phenotype_id</th><th>variant_id</th><th>beta</th><th>std_error</th><th>chisq</th><th>log10p</th><th>sample_size</th></tr><tr><td>str</td><td>str</td><td>f64</td><td>f64</td><td>f64</td><td>f64</td><td>i64</td></tr></thead><tbody><tr><td>&quot;PROJ001&quot;</td><td>&quot;1:761147&quot;</td><td>-0.016902</td><td>0.023544</td><td>0.515362</td><td>0.325297</td><td>99194</td></tr><tr><td>&quot;PROJ001&quot;</td><td>&quot;1:768448&quot;</td><td>-0.020637</td><td>0.027213</td><td>0.575128</td><td>0.3484988</td><td>100000</td></tr></tbody></table></div>"
      ],
      "text/plain": [
       "shape: (2, 7)\n",
       "┌──────────────┬────────────┬───────────┬───────────┬──────────┬───────────┬─────────────┐\n",
       "│ phenotype_id ┆ variant_id ┆ beta      ┆ std_error ┆ chisq    ┆ log10p    ┆ sample_size │\n",
       "│ ---          ┆ ---        ┆ ---       ┆ ---       ┆ ---      ┆ ---       ┆ ---         │\n",
       "│ str          ┆ str        ┆ f64       ┆ f64       ┆ f64      ┆ f64       ┆ i64         │\n",
       "╞══════════════╪════════════╪═══════════╪═══════════╪══════════╪═══════════╪═════════════╡\n",
       "│ PROJ001      ┆ 1:761147   ┆ -0.016902 ┆ 0.023544  ┆ 0.515362 ┆ 0.325297  ┆ 99194       │\n",
       "│ PROJ001      ┆ 1:768448   ┆ -0.020637 ┆ 0.027213  ┆ 0.575128 ┆ 0.3484988 ┆ 100000      │\n",
       "└──────────────┴────────────┴───────────┴───────────┴──────────┴───────────┴─────────────┘"
      ]
     },
     "execution_count": 14,
     "metadata": {},
     "output_type": "execute_result"
    }
   ],
   "source": [
    "indirect_fastgwa_df = (\n",
    "    pl.read_csv(\"data/igwas/fastgwa.tsv.zst\", separator=\"\\t\")\n",
    "    .select(\"phenotype_id\", \"variant_id\", \"beta\", \"std_error\", \n",
    "            pl.col(\"t_stat\").pow(2).alias(\"chisq\"), pl.col(\"p_value\").alias(\"log10p\"), \n",
    "            \"sample_size\")\n",
    ")\n",
    "\n",
    "indirect_fastgwa_df.head(2)"
   ]
  },
  {
   "cell_type": "code",
   "execution_count": 15,
   "id": "cb775bd1-1e46-45e7-9409-824058f61f63",
   "metadata": {},
   "outputs": [
    {
     "data": {
      "text/html": [
       "<div><style>\n",
       ".dataframe > thead > tr,\n",
       ".dataframe > tbody > tr {\n",
       "  text-align: right;\n",
       "  white-space: pre-wrap;\n",
       "}\n",
       "</style>\n",
       "<small>shape: (2, 7)</small><table border=\"1\" class=\"dataframe\"><thead><tr><th>phenotype_id</th><th>variant_id</th><th>beta</th><th>std_error</th><th>chisq</th><th>log10p</th><th>sample_size</th></tr><tr><td>str</td><td>str</td><td>f64</td><td>f64</td><td>f64</td><td>f64</td><td>i64</td></tr></thead><tbody><tr><td>&quot;PROJ001&quot;</td><td>&quot;1:761147&quot;</td><td>-0.016955</td><td>0.0236513</td><td>0.513884</td><td>-0.324714</td><td>99194</td></tr><tr><td>&quot;PROJ001&quot;</td><td>&quot;1:768448&quot;</td><td>-0.02052</td><td>0.0273366</td><td>0.563474</td><td>-0.344033</td><td>100000</td></tr></tbody></table></div>"
      ],
      "text/plain": [
       "shape: (2, 7)\n",
       "┌──────────────┬────────────┬───────────┬───────────┬──────────┬───────────┬─────────────┐\n",
       "│ phenotype_id ┆ variant_id ┆ beta      ┆ std_error ┆ chisq    ┆ log10p    ┆ sample_size │\n",
       "│ ---          ┆ ---        ┆ ---       ┆ ---       ┆ ---      ┆ ---       ┆ ---         │\n",
       "│ str          ┆ str        ┆ f64       ┆ f64       ┆ f64      ┆ f64       ┆ i64         │\n",
       "╞══════════════╪════════════╪═══════════╪═══════════╪══════════╪═══════════╪═════════════╡\n",
       "│ PROJ001      ┆ 1:761147   ┆ -0.016955 ┆ 0.0236513 ┆ 0.513884 ┆ -0.324714 ┆ 99194       │\n",
       "│ PROJ001      ┆ 1:768448   ┆ -0.02052  ┆ 0.0273366 ┆ 0.563474 ┆ -0.344033 ┆ 100000      │\n",
       "└──────────────┴────────────┴───────────┴───────────┴──────────┴───────────┴─────────────┘"
      ]
     },
     "execution_count": 15,
     "metadata": {},
     "output_type": "execute_result"
    }
   ],
   "source": [
    "direct_fastgwa_paths = list(pathlib.Path(\"data/direct/fastgwa\").glob(\"PROJ*.fastGWA\"))\n",
    "\n",
    "direct_fastgwa_df = (\n",
    "    pl.concat([\n",
    "        pl.read_csv(path, separator=\"\\t\", columns=[\"SNP\", \"N\", \"BETA\", \"SE\", \"P\"])\n",
    "        .with_columns(phenotype_id=pl.lit(path.stem.replace(\".fastGWA\", \"\")))\n",
    "        for path in direct_fastgwa_paths\n",
    "    ])\n",
    "    .select(\"phenotype_id\", variant_id=\"SNP\", beta=\"BETA\", std_error=\"SE\",\n",
    "            chisq=(pl.col(\"BETA\")/pl.col(\"SE\")).pow(2), log10p=pl.col(\"P\").log(10), \n",
    "            sample_size=\"N\")\n",
    ")\n",
    "\n",
    "direct_fastgwa_df.head(2)"
   ]
  },
  {
   "cell_type": "code",
   "execution_count": 16,
   "id": "6630998b-3ffc-4a6a-b4c6-49a968447790",
   "metadata": {},
   "outputs": [
    {
     "data": {
      "text/html": [
       "<div><style>\n",
       ".dataframe > thead > tr,\n",
       ".dataframe > tbody > tr {\n",
       "  text-align: right;\n",
       "  white-space: pre-wrap;\n",
       "}\n",
       "</style>\n",
       "<small>shape: (2, 12)</small><table border=\"1\" class=\"dataframe\"><thead><tr><th>phenotype_id</th><th>variant_id</th><th>beta</th><th>std_error</th><th>chisq</th><th>log10p</th><th>sample_size</th><th>beta_indirect</th><th>std_error_indirect</th><th>chisq_indirect</th><th>log10p_indirect</th><th>sample_size_indirect</th></tr><tr><td>str</td><td>str</td><td>f64</td><td>f64</td><td>f64</td><td>f64</td><td>i64</td><td>f64</td><td>f64</td><td>f64</td><td>f64</td><td>i64</td></tr></thead><tbody><tr><td>&quot;PROJ001&quot;</td><td>&quot;1:761147&quot;</td><td>-0.016955</td><td>0.0236513</td><td>0.513884</td><td>-0.324714</td><td>99194</td><td>-0.016902</td><td>0.023544</td><td>0.515362</td><td>0.325297</td><td>99194</td></tr><tr><td>&quot;PROJ001&quot;</td><td>&quot;1:768448&quot;</td><td>-0.02052</td><td>0.0273366</td><td>0.563474</td><td>-0.344033</td><td>100000</td><td>-0.020637</td><td>0.027213</td><td>0.575128</td><td>0.3484988</td><td>100000</td></tr></tbody></table></div>"
      ],
      "text/plain": [
       "shape: (2, 12)\n",
       "┌───────────┬───────────┬───────────┬───────────┬───┬───────────┬───────────┬───────────┬──────────┐\n",
       "│ phenotype ┆ variant_i ┆ beta      ┆ std_error ┆ … ┆ std_error ┆ chisq_ind ┆ log10p_in ┆ sample_s │\n",
       "│ _id       ┆ d         ┆ ---       ┆ ---       ┆   ┆ _indirect ┆ irect     ┆ direct    ┆ ize_indi │\n",
       "│ ---       ┆ ---       ┆ f64       ┆ f64       ┆   ┆ ---       ┆ ---       ┆ ---       ┆ rect     │\n",
       "│ str       ┆ str       ┆           ┆           ┆   ┆ f64       ┆ f64       ┆ f64       ┆ ---      │\n",
       "│           ┆           ┆           ┆           ┆   ┆           ┆           ┆           ┆ i64      │\n",
       "╞═══════════╪═══════════╪═══════════╪═══════════╪═══╪═══════════╪═══════════╪═══════════╪══════════╡\n",
       "│ PROJ001   ┆ 1:761147  ┆ -0.016955 ┆ 0.0236513 ┆ … ┆ 0.023544  ┆ 0.515362  ┆ 0.325297  ┆ 99194    │\n",
       "│ PROJ001   ┆ 1:768448  ┆ -0.02052  ┆ 0.0273366 ┆ … ┆ 0.027213  ┆ 0.575128  ┆ 0.3484988 ┆ 100000   │\n",
       "└───────────┴───────────┴───────────┴───────────┴───┴───────────┴───────────┴───────────┴──────────┘"
      ]
     },
     "execution_count": 16,
     "metadata": {},
     "output_type": "execute_result"
    }
   ],
   "source": [
    "fastgwa_comparison_df = (\n",
    "    direct_fastgwa_df\n",
    "    .join(indirect_fastgwa_df, on=[\"phenotype_id\", \"variant_id\"], suffix=\"_indirect\")\n",
    ")\n",
    "\n",
    "fastgwa_comparison_df.head(2)"
   ]
  },
  {
   "cell_type": "code",
   "execution_count": 17,
   "id": "7c1e7c9e-b4d7-40ea-ac3b-fcd6715821bc",
   "metadata": {},
   "outputs": [],
   "source": [
    "fastgwa_comparison_df.write_parquet(\"plot_data/fastgwa.parquet\")"
   ]
  }
 ],
 "metadata": {
  "kernelspec": {
   "display_name": "Python 3 (ipykernel)",
   "language": "python",
   "name": "python3"
  },
  "language_info": {
   "codemirror_mode": {
    "name": "ipython",
    "version": 3
   },
   "file_extension": ".py",
   "mimetype": "text/x-python",
   "name": "python",
   "nbconvert_exporter": "python",
   "pygments_lexer": "ipython3",
   "version": "3.11.6"
  }
 },
 "nbformat": 4,
 "nbformat_minor": 5
}
