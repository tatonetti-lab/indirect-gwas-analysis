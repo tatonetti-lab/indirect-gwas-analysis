{
 "cells": [
  {
   "cell_type": "code",
   "execution_count": 1,
   "id": "bcc11d9b-1e79-4170-880a-f23e33b50ce5",
   "metadata": {},
   "outputs": [],
   "source": [
    "import polars as pl\n",
    "import pandas as pd\n",
    "import tqdm\n",
    "import numpy as np"
   ]
  },
  {
   "cell_type": "code",
   "execution_count": 2,
   "id": "eb89a94d-ee71-490c-9c90-febbdc668d4e",
   "metadata": {},
   "outputs": [],
   "source": [
    "phecode_df = pl.read_csv(\"data/pheno/phecodes.tsv\", separator=\"\\t\", null_values=\"NA\").drop(\"FID\")\n",
    "binary_df = pl.read_csv(\"../data/pheno/binary_pheno.tsv\", separator=\"\\t\").drop(\"FID\")\n",
    "merged_df = (\n",
    "    binary_df\n",
    "    .join(phecode_df, on=\"IID\", how=\"inner\")\n",
    "    .drop(\"IID\")\n",
    ")\n",
    "binary_names = merged_df.select(\"^b_.+$\").columns\n",
    "phecode_names = merged_df.select(\"^phecode_.+$\").columns\n",
    "coef_df = pd.DataFrame(index=binary_names, columns=phecode_names, dtype=float)"
   ]
  },
  {
   "cell_type": "code",
   "execution_count": 3,
   "id": "8e9bb97b-d5d7-433d-8ae4-481b95b06b47",
   "metadata": {},
   "outputs": [
    {
     "data": {
      "application/vnd.jupyter.widget-view+json": {
       "model_id": "82d9b01d4fd64f03a5611392674893ef",
       "version_major": 2,
       "version_minor": 0
      },
      "text/plain": [
       "  0%|          | 0/433 [00:00<?, ?it/s]"
      ]
     },
     "metadata": {},
     "output_type": "display_data"
    }
   ],
   "source": [
    "for phecode in tqdm.tqdm(phecode_names):\n",
    "    reg_df = merged_df.select(binary_names + [phecode]).drop_nulls()\n",
    "    X = reg_df.select(binary_names).to_numpy()\n",
    "    Y = reg_df[phecode].to_numpy()\n",
    "    coef = np.linalg.lstsq(X, Y, rcond=None)[0]\n",
    "    coef_df[phecode] = coef"
   ]
  },
  {
   "cell_type": "code",
   "execution_count": 4,
   "id": "3b2e4d7b-dcc9-4222-85a6-9ab5a8b1fa89",
   "metadata": {},
   "outputs": [],
   "source": [
    "(\n",
    "    coef_df\n",
    "    .rename_axis(index=\"feature\")\n",
    "    .rename(index=lambda x: f\"plink.{x}.glm.linear.zst\")\n",
    "    .to_csv(\"data/coef/binary_to_phecode.tsv\", sep=\"\\t\")\n",
    ")"
   ]
  }
 ],
 "metadata": {
  "kernelspec": {
   "display_name": "Python 3 (ipykernel)",
   "language": "python",
   "name": "python3"
  },
  "language_info": {
   "codemirror_mode": {
    "name": "ipython",
    "version": 3
   },
   "file_extension": ".py",
   "mimetype": "text/x-python",
   "name": "python",
   "nbconvert_exporter": "python",
   "pygments_lexer": "ipython3",
   "version": "3.11.6"
  }
 },
 "nbformat": 4,
 "nbformat_minor": 5
}
