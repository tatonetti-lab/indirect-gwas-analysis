{
 "cells": [
  {
   "cell_type": "code",
   "execution_count": 1,
   "id": "ada8afd5-ad4a-432f-985a-7b075c0e3102",
   "metadata": {},
   "outputs": [],
   "source": [
    "import numpy as np\n",
    "import pandas as pd\n",
    "import polars as pl\n",
    "import tqdm.notebook as tqdm"
   ]
  },
  {
   "cell_type": "code",
   "execution_count": 2,
   "id": "59ac9f49-2dd3-43dc-ab02-add85c7697bc",
   "metadata": {},
   "outputs": [
    {
     "data": {
      "text/html": [
       "<div><style>\n",
       ".dataframe > thead > tr,\n",
       ".dataframe > tbody > tr {\n",
       "  text-align: right;\n",
       "  white-space: pre-wrap;\n",
       "}\n",
       "</style>\n",
       "<small>shape: (2, 1)</small><table border=\"1\" class=\"dataframe\"><thead><tr><th>phecode</th></tr><tr><td>str</td></tr></thead><tbody><tr><td>&quot;008&quot;</td></tr><tr><td>&quot;008.5&quot;</td></tr></tbody></table></div>"
      ],
      "text/plain": [
       "shape: (2, 1)\n",
       "┌─────────┐\n",
       "│ phecode │\n",
       "│ ---     │\n",
       "│ str     │\n",
       "╞═════════╡\n",
       "│ 008     │\n",
       "│ 008.5   │\n",
       "└─────────┘"
      ]
     },
     "execution_count": 2,
     "metadata": {},
     "output_type": "execute_result"
    }
   ],
   "source": [
    "allowed_phecodes_df = (\n",
    "    pl.read_csv(\"data/phecode_map/phecode_definitions1.2.csv\", dtypes={\"phecode\": pl.Utf8})\n",
    "    .filter(~pl.col(\"sex\").is_in({\"Male\", \"Female\"}))\n",
    "    .select(\"phecode\")\n",
    ")\n",
    "\n",
    "allowed_phecodes_df.head(2)"
   ]
  },
  {
   "cell_type": "code",
   "execution_count": 3,
   "id": "e8192ff3-d6cb-49b4-aede-5b5f5b4e0893",
   "metadata": {},
   "outputs": [
    {
     "data": {
      "text/html": [
       "<div><style>\n",
       ".dataframe > thead > tr,\n",
       ".dataframe > tbody > tr {\n",
       "  text-align: right;\n",
       "  white-space: pre-wrap;\n",
       "}\n",
       "</style>\n",
       "<small>shape: (2, 3)</small><table border=\"1\" class=\"dataframe\"><thead><tr><th>icd</th><th>phecode</th><th>control_range</th></tr><tr><td>str</td><td>str</td><td>str</td></tr></thead><tbody><tr><td>&quot;A05.8&quot;</td><td>&quot;008.5&quot;</td><td>&quot;001-009.99&quot;</td></tr><tr><td>&quot;A06.6&quot;</td><td>&quot;008&quot;</td><td>&quot;001-009.99&quot;</td></tr></tbody></table></div>"
      ],
      "text/plain": [
       "shape: (2, 3)\n",
       "┌───────┬─────────┬───────────────┐\n",
       "│ icd   ┆ phecode ┆ control_range │\n",
       "│ ---   ┆ ---     ┆ ---           │\n",
       "│ str   ┆ str     ┆ str           │\n",
       "╞═══════╪═════════╪═══════════════╡\n",
       "│ A05.8 ┆ 008.5   ┆ 001-009.99    │\n",
       "│ A06.6 ┆ 008     ┆ 001-009.99    │\n",
       "└───────┴─────────┴───────────────┘"
      ]
     },
     "execution_count": 3,
     "metadata": {},
     "output_type": "execute_result"
    }
   ],
   "source": [
    "phecode_map_df = (\n",
    "    pl.read_csv(\n",
    "        \"data/phecode_map/Phecode_map_v1_2_icd10_beta.csv\", \n",
    "        dtypes={\"ICD10\": pl.Utf8, \"PHECODE\": pl.Utf8, \n",
    "                \"Exl. Phecodes\": pl.Utf8, \"Excl. Phenotypes\": pl.Utf8}\n",
    "    )\n",
    "    .drop(\"Excl. Phenotypes\")\n",
    "    .rename({\"ICD10\": \"icd\", \"PHECODE\": \"phecode\", \"Exl. Phecodes\": \"control_range\"})\n",
    "    .join(allowed_phecodes_df, on=[\"phecode\"])\n",
    "    .unique()\n",
    ")\n",
    "\n",
    "phecode_map_df.head(2)"
   ]
  },
  {
   "cell_type": "code",
   "execution_count": 4,
   "id": "750aec3b-d709-4e8c-901e-e8498b2d1b1e",
   "metadata": {},
   "outputs": [
    {
     "data": {
      "text/html": [
       "<div><style>\n",
       ".dataframe > thead > tr,\n",
       ".dataframe > tbody > tr {\n",
       "  text-align: right;\n",
       "  white-space: pre-wrap;\n",
       "}\n",
       "</style>\n",
       "<small>shape: (0, 1_239)</small><table border=\"1\" class=\"dataframe\"><thead><tr><th>IID</th><th>b_A01</th><th>b_A02</th><th>b_A03</th><th>b_A04</th><th>b_A05</th><th>b_A06</th><th>b_A07</th><th>b_A08</th><th>b_A09</th><th>b_A15</th><th>b_A16</th><th>b_A18</th><th>b_A31</th><th>b_A36</th><th>b_A37</th><th>b_A38</th><th>b_A40</th><th>b_A41</th><th>b_A42</th><th>b_A46</th><th>b_A48</th><th>b_A49</th><th>b_A54</th><th>b_A60</th><th>b_A63</th><th>b_A69</th><th>b_A80</th><th>b_A87</th><th>b_B00</th><th>b_B01</th><th>b_B02</th><th>b_B05</th><th>b_B06</th><th>b_B07</th><th>b_B08</th><th>b_B15</th><th>&hellip;</th><th>b_Z50</th><th>b_Z51</th><th>b_Z52</th><th>b_Z53</th><th>b_Z54</th><th>b_Z56</th><th>b_Z57</th><th>b_Z58</th><th>b_Z59</th><th>b_Z60</th><th>b_Z63</th><th>b_Z71</th><th>b_Z72</th><th>b_Z73</th><th>b_Z74</th><th>b_Z75</th><th>b_Z76</th><th>b_Z80</th><th>b_Z81</th><th>b_Z82</th><th>b_Z83</th><th>b_Z84</th><th>b_Z85</th><th>b_Z86</th><th>b_Z87</th><th>b_Z88</th><th>b_Z89</th><th>b_Z90</th><th>b_Z91</th><th>b_Z92</th><th>b_Z93</th><th>b_Z94</th><th>b_Z95</th><th>b_Z96</th><th>b_Z97</th><th>b_Z98</th><th>b_Z99</th></tr><tr><td>i64</td><td>i64</td><td>i64</td><td>i64</td><td>i64</td><td>i64</td><td>i64</td><td>i64</td><td>i64</td><td>i64</td><td>i64</td><td>i64</td><td>i64</td><td>i64</td><td>i64</td><td>i64</td><td>i64</td><td>i64</td><td>i64</td><td>i64</td><td>i64</td><td>i64</td><td>i64</td><td>i64</td><td>i64</td><td>i64</td><td>i64</td><td>i64</td><td>i64</td><td>i64</td><td>i64</td><td>i64</td><td>i64</td><td>i64</td><td>i64</td><td>i64</td><td>i64</td><td>&hellip;</td><td>i64</td><td>i64</td><td>i64</td><td>i64</td><td>i64</td><td>i64</td><td>i64</td><td>i64</td><td>i64</td><td>i64</td><td>i64</td><td>i64</td><td>i64</td><td>i64</td><td>i64</td><td>i64</td><td>i64</td><td>i64</td><td>i64</td><td>i64</td><td>i64</td><td>i64</td><td>i64</td><td>i64</td><td>i64</td><td>i64</td><td>i64</td><td>i64</td><td>i64</td><td>i64</td><td>i64</td><td>i64</td><td>i64</td><td>i64</td><td>i64</td><td>i64</td><td>i64</td></tr></thead><tbody></tbody></table></div>"
      ],
      "text/plain": [
       "shape: (0, 1_239)\n",
       "┌─────┬───────┬───────┬───────┬───┬───────┬───────┬───────┬───────┐\n",
       "│ IID ┆ b_A01 ┆ b_A02 ┆ b_A03 ┆ … ┆ b_Z96 ┆ b_Z97 ┆ b_Z98 ┆ b_Z99 │\n",
       "│ --- ┆ ---   ┆ ---   ┆ ---   ┆   ┆ ---   ┆ ---   ┆ ---   ┆ ---   │\n",
       "│ i64 ┆ i64   ┆ i64   ┆ i64   ┆   ┆ i64   ┆ i64   ┆ i64   ┆ i64   │\n",
       "╞═════╪═══════╪═══════╪═══════╪═══╪═══════╪═══════╪═══════╪═══════╡\n",
       "└─────┴───────┴───────┴───────┴───┴───────┴───────┴───────┴───────┘"
      ]
     },
     "execution_count": 4,
     "metadata": {},
     "output_type": "execute_result"
    }
   ],
   "source": [
    "pheno_df = pl.read_csv(\"../data/pheno/binary_pheno.tsv\", separator=\"\\t\").drop(\"FID\")\n",
    "\n",
    "pheno_df.head(0)"
   ]
  },
  {
   "cell_type": "code",
   "execution_count": 5,
   "id": "406573d6-c860-49fc-92c2-f8a3c54dde96",
   "metadata": {},
   "outputs": [
    {
     "data": {
      "text/html": [
       "<div><style>\n",
       ".dataframe > thead > tr,\n",
       ".dataframe > tbody > tr {\n",
       "  text-align: right;\n",
       "  white-space: pre-wrap;\n",
       "}\n",
       "</style>\n",
       "<small>shape: (0, 2)</small><table border=\"1\" class=\"dataframe\"><thead><tr><th>IID</th><th>icd</th></tr><tr><td>i64</td><td>str</td></tr></thead><tbody></tbody></table></div>"
      ],
      "text/plain": [
       "shape: (0, 2)\n",
       "┌─────┬─────┐\n",
       "│ IID ┆ icd │\n",
       "│ --- ┆ --- │\n",
       "│ i64 ┆ str │\n",
       "╞═════╪═════╡\n",
       "└─────┴─────┘"
      ]
     },
     "execution_count": 5,
     "metadata": {},
     "output_type": "execute_result"
    }
   ],
   "source": [
    "long_pheno_df = (\n",
    "    pheno_df\n",
    "    .with_columns(pl.col(\"^b_.+$\").sub(2).cast(pl.Boolean))\n",
    "    .melt(id_vars=[\"IID\"], variable_name=\"icd\", value_name=\"has_icd\")\n",
    "    .filter(\"has_icd\")\n",
    "    .drop(\"has_icd\")\n",
    "    .with_columns(pl.col(\"icd\").str.strip_chars(\"b_\"))\n",
    ")\n",
    "\n",
    "long_pheno_df.head(0)"
   ]
  },
  {
   "cell_type": "code",
   "execution_count": 6,
   "id": "c22c8fde-fd57-4f0f-9c00-a596f491d306",
   "metadata": {},
   "outputs": [
    {
     "data": {
      "text/html": [
       "<div><style>\n",
       ".dataframe > thead > tr,\n",
       ".dataframe > tbody > tr {\n",
       "  text-align: right;\n",
       "  white-space: pre-wrap;\n",
       "}\n",
       "</style>\n",
       "<small>shape: (0, 2)</small><table border=\"1\" class=\"dataframe\"><thead><tr><th>IID</th><th>phecode</th></tr><tr><td>i64</td><td>str</td></tr></thead><tbody></tbody></table></div>"
      ],
      "text/plain": [
       "shape: (0, 2)\n",
       "┌─────┬─────────┐\n",
       "│ IID ┆ phecode │\n",
       "│ --- ┆ ---     │\n",
       "│ i64 ┆ str     │\n",
       "╞═════╪═════════╡\n",
       "└─────┴─────────┘"
      ]
     },
     "execution_count": 6,
     "metadata": {},
     "output_type": "execute_result"
    }
   ],
   "source": [
    "long_case_df = (\n",
    "    long_pheno_df\n",
    "    .join(phecode_map_df, on=\"icd\")\n",
    "    .drop(\"control_range\")\n",
    "    .unique([\"IID\", \"phecode\"])\n",
    "    .drop_nulls()\n",
    "    .select(\"IID\", \"phecode\")\n",
    ")\n",
    "\n",
    "long_case_df.head(0)"
   ]
  },
  {
   "cell_type": "code",
   "execution_count": 7,
   "id": "673c17f5-f183-4382-ab28-99651cfa3371",
   "metadata": {},
   "outputs": [
    {
     "data": {
      "text/html": [
       "<div><style>\n",
       ".dataframe > thead > tr,\n",
       ".dataframe > tbody > tr {\n",
       "  text-align: right;\n",
       "  white-space: pre-wrap;\n",
       "}\n",
       "</style>\n",
       "<small>shape: (2, 4)</small><table border=\"1\" class=\"dataframe\"><thead><tr><th>phecode</th><th>control_range</th><th>control_start</th><th>control_end</th></tr><tr><td>str</td><td>str</td><td>str</td><td>str</td></tr></thead><tbody><tr><td>&quot;008&quot;</td><td>&quot;001-009.99&quot;</td><td>&quot;001&quot;</td><td>&quot;009.99&quot;</td></tr><tr><td>&quot;008.5&quot;</td><td>&quot;001-009.99&quot;</td><td>&quot;001&quot;</td><td>&quot;009.99&quot;</td></tr></tbody></table></div>"
      ],
      "text/plain": [
       "shape: (2, 4)\n",
       "┌─────────┬───────────────┬───────────────┬─────────────┐\n",
       "│ phecode ┆ control_range ┆ control_start ┆ control_end │\n",
       "│ ---     ┆ ---           ┆ ---           ┆ ---         │\n",
       "│ str     ┆ str           ┆ str           ┆ str         │\n",
       "╞═════════╪═══════════════╪═══════════════╪═════════════╡\n",
       "│ 008     ┆ 001-009.99    ┆ 001           ┆ 009.99      │\n",
       "│ 008.5   ┆ 001-009.99    ┆ 001           ┆ 009.99      │\n",
       "└─────────┴───────────────┴───────────────┴─────────────┘"
      ]
     },
     "execution_count": 7,
     "metadata": {},
     "output_type": "execute_result"
    }
   ],
   "source": [
    "phecode_control_df = (\n",
    "    phecode_map_df\n",
    "    .drop(\"icd\")\n",
    "    .unique()\n",
    "    .drop_nulls()\n",
    "    .with_columns(control_range=pl.col(\"control_range\").str.split(\",\"))\n",
    "    .explode(\"control_range\")\n",
    "    .with_columns(control_def=pl.col(\"control_range\").str.split_exact(\"-\", 1).struct.rename_fields([\"control_start\", \"control_end\"]))\n",
    "    .unnest(\"control_def\")\n",
    "    .with_columns(pl.col(\"control_start\", \"control_end\").fill_null(\"\"))\n",
    "    .unique()\n",
    "    .sort(\"phecode\")\n",
    ")\n",
    "\n",
    "phecode_control_df.head(2)"
   ]
  },
  {
   "cell_type": "code",
   "execution_count": 8,
   "id": "dd968b9e-ab0b-4b41-81f6-3c9efd973ec2",
   "metadata": {},
   "outputs": [
    {
     "name": "stdout",
     "output_type": "stream",
     "text": [
      "CPU times: user 1min 1s, sys: 10.4 s, total: 1min 11s\n",
      "Wall time: 1min 12s\n"
     ]
    }
   ],
   "source": [
    "%%time\n",
    "\n",
    "phecodes = sorted(long_case_df[\"phecode\"].unique().to_list())\n",
    "IIDs = pheno_df[\"IID\"].to_list()\n",
    "\n",
    "phecode_case_control_df = pd.DataFrame(index=IIDs, columns=phecodes, dtype=float)\n",
    "\n",
    "for iid, phecode in long_case_df.to_numpy():\n",
    "    phecode_case_control_df.loc[iid, phecode] = 1\n",
    "\n",
    "for row in phecode_control_df.to_dicts():\n",
    "    if not row[\"phecode\"] in phecodes:\n",
    "        continue \n",
    "        \n",
    "    to_exclude = [\n",
    "        phecode for phecode in phecodes\n",
    "        if phecode >= row[\"control_start\"] and phecode <= row[\"control_end\"]\n",
    "    ]\n",
    "    control_series = (\n",
    "        phecode_case_control_df\n",
    "        .loc[:, to_exclude]\n",
    "        .max(axis=1, skipna=True)\n",
    "        .astype(float)\n",
    "        .map({\n",
    "            1.0: np.nan, # any cases -> excluded\n",
    "            np.nan: 0,   # no cases  -> control\n",
    "            0: 0         # no cases  -> control\n",
    "        })\n",
    "        .rename(\"control\")\n",
    "    )\n",
    "    new_series = (\n",
    "        pd.concat([\n",
    "            phecode_case_control_df[row[\"phecode\"]],\n",
    "            control_series\n",
    "        ], axis=1)\n",
    "        .assign(final=lambda df: df[\"control\"].combine_first(df[row[\"phecode\"]]))\n",
    "        .loc[:, \"final\"]\n",
    "        .rename(row[\"phecode\"])\n",
    "    )\n",
    "        \n",
    "    phecode_case_control_df[row[\"phecode\"]] = new_series\n",
    "\n",
    "phecode_case_control_df = (\n",
    "    phecode_case_control_df\n",
    "    # Only keep phecodes with >= 100 cases\n",
    "    .loc[:, lambda df: df.sum() >= 100]\n",
    "    # Add FID, add \"phecode_\" prefix to all phecodes\n",
    "    .rename_axis(index=\"IID\")\n",
    "    .reset_index()\n",
    "    .assign(FID=lambda df: df[\"IID\"])\n",
    "    .set_index([\"FID\", \"IID\"])\n",
    "    .rename(columns=lambda x: f\"phecode_{x}\")\n",
    "    .reset_index()\n",
    ")"
   ]
  },
  {
   "cell_type": "code",
   "execution_count": 9,
   "id": "430c3dfa-04dc-4c22-bc6f-10d229c01bca",
   "metadata": {},
   "outputs": [
    {
     "data": {
      "text/plain": [
       "(100000, 435)"
      ]
     },
     "execution_count": 9,
     "metadata": {},
     "output_type": "execute_result"
    }
   ],
   "source": [
    "phecode_case_control_df.shape"
   ]
  },
  {
   "cell_type": "code",
   "execution_count": 10,
   "id": "b4c498d0-89f4-49f2-be6e-1497f76fe88d",
   "metadata": {},
   "outputs": [],
   "source": [
    "(\n",
    "    phecode_case_control_df\n",
    "    # To force Plink 2 to use linear regression, code case = 3, control = 2\n",
    "    .set_index([\"FID\", \"IID\"])\n",
    "    .pipe(lambda df: df + 2)\n",
    "    .reset_index()\n",
    "    .to_csv(\"data/pheno/phecodes.tsv\", sep=\"\\t\", index=False, na_rep=\"NA\", float_format=\"%.0f\")\n",
    ")"
   ]
  }
 ],
 "metadata": {
  "kernelspec": {
   "display_name": "Python 3 (ipykernel)",
   "language": "python",
   "name": "python3"
  },
  "language_info": {
   "codemirror_mode": {
    "name": "ipython",
    "version": 3
   },
   "file_extension": ".py",
   "mimetype": "text/x-python",
   "name": "python",
   "nbconvert_exporter": "python",
   "pygments_lexer": "ipython3",
   "version": "3.11.6"
  }
 },
 "nbformat": 4,
 "nbformat_minor": 5
}
